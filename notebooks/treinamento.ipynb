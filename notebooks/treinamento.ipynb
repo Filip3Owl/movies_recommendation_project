{
 "cells": [
  {
   "cell_type": "markdown",
   "id": "87182057",
   "metadata": {},
   "source": [
    "## Início do algoritmo\n",
    "O primeiro passo é o mais simples. Apenas vou ler os dados utilizando a biblioteca `pandas`."
   ]
  },
  {
   "cell_type": "code",
   "execution_count": 1,
   "id": "90263d64",
   "metadata": {},
   "outputs": [],
   "source": [
    "import pandas as pd\n",
    "\n",
    "#dados dos filmes e notas\n",
    "filmes = pd.read_csv('../data/movies.csv')\n",
    "notas = pd.read_csv('../data/ratings.csv')"
   ]
  },
  {
   "cell_type": "markdown",
   "id": "1a9ff7d8",
   "metadata": {},
   "source": [
    "## Pré processamento dos dados\n",
    "Preciso limpar os dados antes de proceguir. Nesse caso, retirar valores vazios utilizando o método `dropna()` da biblioteca `pandas`."
   ]
  },
  {
   "cell_type": "code",
   "execution_count": 3,
   "id": "29b1d495",
   "metadata": {},
   "outputs": [
    {
     "name": "stdout",
     "output_type": "stream",
     "text": [
      "userId       0\n",
      "movieId      0\n",
      "rating       0\n",
      "timestamp    0\n",
      "dtype: int64\n",
      "movieId    0\n",
      "title      0\n",
      "genres     0\n",
      "dtype: int64\n"
     ]
    }
   ],
   "source": [
    "# Etapa de verificação primária\n",
    "\n",
    "#Valores nulos em notas:\n",
    "print(notas.isnull().sum())\n",
    "#Valores nulos em filmes:\n",
    "print(filmes.isnull().sum())"
   ]
  },
  {
   "cell_type": "markdown",
   "id": "14b44670",
   "metadata": {},
   "source": [
    "Não encontrei **valores ausentes**, logo não vou precisar utilizar o `dropana()` do `pandas`.\n",
    "Segue um exemplo se caso tivesse **valores vazios** nos dados:"
   ]
  },
  {
   "cell_type": "code",
   "execution_count": 4,
   "id": "4c6f1c45",
   "metadata": {},
   "outputs": [],
   "source": [
    "#Remoção de valores nulos\n",
    "notas = notas.dropna()\n",
    "filmes = filmes.dropna()"
   ]
  }
 ],
 "metadata": {
  "kernelspec": {
   "display_name": ".venv",
   "language": "python",
   "name": "python3"
  },
  "language_info": {
   "codemirror_mode": {
    "name": "ipython",
    "version": 3
   },
   "file_extension": ".py",
   "mimetype": "text/x-python",
   "name": "python",
   "nbconvert_exporter": "python",
   "pygments_lexer": "ipython3",
   "version": "3.13.3"
  }
 },
 "nbformat": 4,
 "nbformat_minor": 5
}
