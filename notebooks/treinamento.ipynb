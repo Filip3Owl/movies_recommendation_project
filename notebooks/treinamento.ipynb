{
 "cells": [
  {
   "cell_type": "markdown",
   "id": "87182057",
   "metadata": {},
   "source": [
    "## Início do algoritmo\n",
    "O primeiro passo é o mais simples. Apenas vou ler os dados utilizando a biblioteca `pandas`."
   ]
  },
  {
   "cell_type": "code",
   "execution_count": 1,
   "id": "90263d64",
   "metadata": {},
   "outputs": [],
   "source": [
    "import pandas as pd\n",
    "\n",
    "#dados dos filmes e notas\n",
    "filmes = pd.read_csv('../data/movies.csv')\n",
    "notas = pd.read_csv('../data/ratings.csv')"
   ]
  },
  {
   "cell_type": "markdown",
   "id": "1a9ff7d8",
   "metadata": {},
   "source": [
    "## Pré processamento dos dados\n",
    "Preciso limpar os dados antes de proceguir. Nesse caso, retirar valores vazios utilizando o método `dropna()` da biblioteca `pandas`."
   ]
  },
  {
   "cell_type": "code",
   "execution_count": 3,
   "id": "29b1d495",
   "metadata": {},
   "outputs": [
    {
     "name": "stdout",
     "output_type": "stream",
     "text": [
      "userId       0\n",
      "movieId      0\n",
      "rating       0\n",
      "timestamp    0\n",
      "dtype: int64\n",
      "movieId    0\n",
      "title      0\n",
      "genres     0\n",
      "dtype: int64\n"
     ]
    }
   ],
   "source": [
    "# Etapa de verificação primária\n",
    "\n",
    "#Valores nulos em notas:\n",
    "print(notas.isnull().sum())\n",
    "#Valores nulos em filmes:\n",
    "print(filmes.isnull().sum())"
   ]
  },
  {
   "cell_type": "markdown",
   "id": "14b44670",
   "metadata": {},
   "source": [
    "Não encontrei **valores ausentes**, logo não vou precisar utilizar o `dropana()` do `pandas`.\n",
    "Segue um exemplo se caso tivesse **valores vazios** nos dados:"
   ]
  },
  {
   "cell_type": "code",
   "execution_count": 4,
   "id": "4c6f1c45",
   "metadata": {},
   "outputs": [],
   "source": [
    "#Remoção de valores nulos\n",
    "notas = notas.dropna()\n",
    "filmes = filmes.dropna()"
   ]
  },
  {
   "cell_type": "markdown",
   "id": "3a62278b",
   "metadata": {},
   "source": [
    "## Implementação do algoritmo\n",
    "Vou utilizar a biblioteca `pandas` para realizar o calculo de média de forma eficiente. Vou unir o identificador de cada filme `movieId` aos valores de avaliação `rating` utilizando o método `groupby` do `pandas`. Para realizar o calculo de média de forma eficiente, vou utilizar o método `.mean()` do pandas."
   ]
  },
  {
   "cell_type": "code",
   "execution_count": 6,
   "id": "b64a2578",
   "metadata": {},
   "outputs": [
    {
     "name": "stdout",
     "output_type": "stream",
     "text": [
      "movieId\n",
      "1         3.921240\n",
      "2         3.211977\n",
      "3         3.151040\n",
      "4         2.861393\n",
      "5         3.064592\n",
      "            ...   \n",
      "131254    4.000000\n",
      "131256    4.000000\n",
      "131258    2.500000\n",
      "131260    3.000000\n",
      "131262    4.000000\n",
      "Name: rating, Length: 26744, dtype: float64\n"
     ]
    }
   ],
   "source": [
    "#Cálculo da média de avaliações por filme\n",
    "\n",
    "num_media = notas.groupby('movieId')['rating'].mean()\n",
    "print(num_media)"
   ]
  },
  {
   "cell_type": "markdown",
   "id": "eee74662",
   "metadata": {},
   "source": [
    "## Possíveis solução para resolução do problema\n",
    "\n",
    "Para recomendar filmes a um usuário, foi criada a função `filmes_recomendados()`.\n",
    "\n",
    "* Primeiro, ela descobre quais filmes o usuário já assistiu, usando o `userId` para filtrar suas avaliações. Esses filmes ficam guardados na lista `filmes_assistidos`.\n",
    "* Depois, a função pega as notas médias de todos os filmes (`media_avaliacoes`) e remove os que já estão na lista de filmes assistidos.\n",
    "* Os filmes que sobraram são organizados do maior para o menor de acordo com a nota média.\n",
    "* Em seguida, são escolhidos apenas os **n** melhores (usando o parâmetro `n_recomendacoes`).\n",
    "* Por fim, a função retorna os detalhes desses filmes, buscando no conjunto de dados de filmes (**movies**) as informações correspondentes.\n",
    "\n",
    "No teste, essa função recomendou **5 filmes** para o usuário de identificador **1**, e os resultados foram exibidos para conferência.\n",
    "\n"
   ]
  },
  {
   "cell_type": "code",
   "execution_count": 8,
   "id": "f067ae69",
   "metadata": {},
   "outputs": [
    {
     "name": "stdout",
     "output_type": "stream",
     "text": [
      "Filmes recomendados para o usuário 1:\n",
      "       movieId                                              title  \\\n",
      "9007     26718      Life On A String (Bian chang Bian Zou) (1991)   \n",
      "9561     27914  Hijacking Catastrophe: 9/11, Fear & the Sellin...   \n",
      "9862     32230            Snow Queen, The (Lumikuningatar) (1986)   \n",
      "10567    40404                                Al otro lado (2004)   \n",
      "12015    54326                                  Sierra, La (2005)   \n",
      "\n",
      "                                genres  \n",
      "9007   Adventure|Drama|Fantasy|Musical  \n",
      "9561                       Documentary  \n",
      "9862                  Children|Fantasy  \n",
      "10567                            Drama  \n",
      "12015                      Documentary  \n"
     ]
    }
   ],
   "source": [
    "def filmes_recomendados(user_id, n_recomendacoes=5):\n",
    "    # Descobre quais filmes o usuário já assistiu\n",
    "    notas_usuario = notas[notas['userId'] == user_id]\n",
    "    # Lista de filmes assistidos\n",
    "    filmes_assistidos = notas_usuario['movieId'].tolist()\n",
    "    # Filtra as médias para remover os filmes já assistidos\n",
    "    recomendacoes = num_media[~num_media.index.isin(filmes_assistidos)]\n",
    "    # Seleciona os n melhores filmes\n",
    "    filmes_recomendados = recomendacoes.nlargest(n_recomendacoes).index.tolist()\n",
    "    # Retorna os detalhes dos filmes recomendados\n",
    "    return filmes[filmes['movieId'].isin(filmes_recomendados)]\n",
    "\n",
    "# Teste da função\n",
    "chamada_filmes_recomendados = filmes_recomendados(user_id=1, n_recomendacoes=5)\n",
    "print(\"Filmes recomendados para o usuário 1:\")\n",
    "# Exibe os filmes recomendados\n",
    "print(chamada_filmes_recomendados)"
   ]
  }
 ],
 "metadata": {
  "kernelspec": {
   "display_name": ".venv",
   "language": "python",
   "name": "python3"
  },
  "language_info": {
   "codemirror_mode": {
    "name": "ipython",
    "version": 3
   },
   "file_extension": ".py",
   "mimetype": "text/x-python",
   "name": "python",
   "nbconvert_exporter": "python",
   "pygments_lexer": "ipython3",
   "version": "3.13.3"
  }
 },
 "nbformat": 4,
 "nbformat_minor": 5
}
